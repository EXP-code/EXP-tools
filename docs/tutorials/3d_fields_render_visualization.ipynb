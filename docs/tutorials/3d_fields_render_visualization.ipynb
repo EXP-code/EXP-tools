{
 "cells": [
  {
   "cell_type": "code",
   "execution_count": 1,
   "id": "30590878",
   "metadata": {},
   "outputs": [
    {
     "name": "stdout",
     "output_type": "stream",
     "text": [
      "%pylab is deprecated, use %matplotlib inline and import the required libraries.\n",
      "Populating the interactive namespace from numpy and matplotlib\n"
     ]
    }
   ],
   "source": [
    "%pylab inline\n",
    "import numpy as np\n",
    "import pyEXP\n",
    "import EXPtools \n",
    "import matplotlib.pyplot as plt"
   ]
  },
  {
   "cell_type": "code",
   "execution_count": 2,
   "id": "fd377bf7",
   "metadata": {},
   "outputs": [],
   "source": [
    "field = np.load('/home/ngc/Downloads/field3d_0Gyr_test.npy')"
   ]
  },
  {
   "cell_type": "code",
   "execution_count": 3,
   "id": "fc7d5c89",
   "metadata": {},
   "outputs": [
    {
     "data": {
      "text/plain": [
       "(101, 101, 101)"
      ]
     },
     "execution_count": 3,
     "metadata": {},
     "output_type": "execute_result"
    }
   ],
   "source": [
    "np.shape(field)"
   ]
  },
  {
   "cell_type": "code",
   "execution_count": 4,
   "id": "c8fce264",
   "metadata": {},
   "outputs": [
    {
     "name": "stdout",
     "output_type": "stream",
     "text": [
      "-855137.44 968163.4\n"
     ]
    }
   ],
   "source": [
    "print(np.min(field), np.max(field))"
   ]
  },
  {
   "cell_type": "code",
   "execution_count": 5,
   "id": "a73321e5",
   "metadata": {},
   "outputs": [
    {
     "data": {
      "text/plain": [
       "968163.4"
      ]
     },
     "execution_count": 5,
     "metadata": {},
     "output_type": "execute_result"
    }
   ],
   "source": [
    "np.max(np.array([field]))"
   ]
  },
  {
   "cell_type": "code",
   "execution_count": 19,
   "id": "79b66056",
   "metadata": {},
   "outputs": [],
   "source": [
    "rend = EXPtools.visuals.field3Drender(np.array([field]), contour_ranges=[np.array([-0.1, 0.1]), np.array([-0.8, 0.8])],\n",
    "                                         size=[-100, 100, -100, 100, -100, 100])"
   ]
  },
  {
   "cell_type": "code",
   "execution_count": 20,
   "id": "30e35046",
   "metadata": {
    "scrolled": false
   },
   "outputs": [
    {
     "data": {
      "application/vnd.jupyter.widget-view+json": {
       "model_id": "8c566d6df0c648bd9b86c4c9952a9534",
       "version_major": 2,
       "version_minor": 0
      },
      "text/plain": [
       "Plot(antialias=3, axes=['x', 'y', 'z'], axes_helper=1.0, axes_helper_colors=[16711680, 65280, 255], background…"
      ]
     },
     "execution_count": 20,
     "metadata": {},
     "output_type": "execute_result"
    }
   ],
   "source": [
    "rend"
   ]
  },
  {
   "cell_type": "code",
   "execution_count": 2,
   "id": "85eede92",
   "metadata": {},
   "outputs": [],
   "source": [
    "# Symphony fields"
   ]
  },
  {
   "cell_type": "code",
   "execution_count": 2,
   "id": "f3db32eb",
   "metadata": {},
   "outputs": [],
   "source": [
    "import pickle"
   ]
  },
  {
   "cell_type": "code",
   "execution_count": 3,
   "id": "2c5638db",
   "metadata": {},
   "outputs": [],
   "source": [
    "symph_halo_170_dens = np.zeros((30, 151, 151, 151))\n",
    "for t in range(29):\n",
    "    with open('../../data/dens_Halo170/dens_Halo170_{:03d}.pickle'.format(215+t), 'rb') as f:\n",
    "              symph_halo_170_dens[t] = pickle.load(f)"
   ]
  },
  {
   "cell_type": "code",
   "execution_count": 4,
   "id": "613a3b8f",
   "metadata": {},
   "outputs": [
    {
     "name": "stderr",
     "output_type": "stream",
     "text": [
      "/tmp/ipykernel_283080/1353063628.py:1: RuntimeWarning: divide by zero encountered in log10\n",
      "  np.max(np.log10(np.abs(symph_halo_170_dens)))\n"
     ]
    },
    {
     "data": {
      "text/plain": [
       "-4.735161224880169"
      ]
     },
     "execution_count": 4,
     "metadata": {},
     "output_type": "execute_result"
    }
   ],
   "source": [
    "np.max(np.log10(np.abs(symph_halo_170_dens)))"
   ]
  },
  {
   "cell_type": "code",
   "execution_count": 5,
   "id": "6da29ffd",
   "metadata": {},
   "outputs": [
    {
     "name": "stderr",
     "output_type": "stream",
     "text": [
      "/tmp/ipykernel_283080/2116080773.py:1: RuntimeWarning: divide by zero encountered in log10\n",
      "  rend = EXPtools.visuals.field3Drender(np.log10(np.abs(symph_halo_170_dens)),\n"
     ]
    }
   ],
   "source": [
    "rend = EXPtools.visuals.field3Drender(np.log10(np.abs(symph_halo_170_dens)), \n",
    "                                      contour_ranges=[np.array([-8, -4]), \n",
    "                                                      np.array([-7, -5.5])],\n",
    "                                      size=[-150, 150, -150, 150, -150, 150], \n",
    "                                     contour_alphas=[2, 4])"
   ]
  },
  {
   "cell_type": "code",
   "execution_count": 6,
   "id": "c6875f54",
   "metadata": {},
   "outputs": [
    {
     "data": {
      "application/vnd.jupyter.widget-view+json": {
       "model_id": "b2243ca76a6a4f93b19d61e1f47a7b26",
       "version_major": 2,
       "version_minor": 0
      },
      "text/plain": [
       "Plot(antialias=3, axes=['x', 'y', 'z'], axes_helper=1.0, axes_helper_colors=[16711680, 65280, 255], background…"
      ]
     },
     "execution_count": 6,
     "metadata": {},
     "output_type": "execute_result"
    }
   ],
   "source": [
    "rend"
   ]
  },
  {
   "cell_type": "code",
   "execution_count": null,
   "id": "19fc3129",
   "metadata": {},
   "outputs": [],
   "source": []
  }
 ],
 "metadata": {
  "kernelspec": {
   "display_name": "pyexp",
   "language": "python",
   "name": "pyexp"
  },
  "language_info": {
   "codemirror_mode": {
    "name": "ipython",
    "version": 3
   },
   "file_extension": ".py",
   "mimetype": "text/x-python",
   "name": "python",
   "nbconvert_exporter": "python",
   "pygments_lexer": "ipython3",
   "version": "3.10.12"
  }
 },
 "nbformat": 4,
 "nbformat_minor": 5
}
