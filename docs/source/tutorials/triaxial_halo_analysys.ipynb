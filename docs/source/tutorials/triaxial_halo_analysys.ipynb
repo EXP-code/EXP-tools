{
 "cells": [
  {
   "cell_type": "code",
   "execution_count": 1,
   "id": "a11a0965",
   "metadata": {
    "tags": []
   },
   "outputs": [
    {
     "name": "stdout",
     "output_type": "stream",
     "text": [
      "%pylab is deprecated, use %matplotlib inline and import the required libraries.\n",
      "Populating the interactive namespace from numpy and matplotlib\n"
     ]
    },
    {
     "ename": "SyntaxError",
     "evalue": "positional argument follows keyword argument (basis_utils.py, line 253)",
     "output_type": "error",
     "traceback": [
      "Traceback \u001b[0;36m(most recent call last)\u001b[0m:\n",
      "\u001b[0m  File \u001b[1;32m~/Work/research/codes/EXP/pyexp/lib/python3.10/site-packages/IPython/core/interactiveshell.py:3550\u001b[0m in \u001b[1;35mrun_code\u001b[0m\n    exec(code_obj, self.user_global_ns, self.user_ns)\u001b[0m\n",
      "\u001b[0m  Cell \u001b[1;32mIn[1], line 3\u001b[0m\n    import EXPtools as et\u001b[0m\n",
      "\u001b[0m  File \u001b[1;32m~/Work/research/codes/EXP/pyexp/lib/python3.10/site-packages/EXPtools/__init__.py:2\u001b[0m\n    from . import basis_builder\u001b[0m\n",
      "\u001b[0;36m  File \u001b[0;32m~/Work/research/codes/EXP/pyexp/lib/python3.10/site-packages/EXPtools/basis_builder/__init__.py:5\u001b[0;36m\n\u001b[0;31m    from .basis_utils import makebasis\u001b[0;36m\n",
      "\u001b[0;36m  File \u001b[0;32m~/Work/research/codes/EXP/pyexp/lib/python3.10/site-packages/EXPtools/basis_builder/basis_utils.py:253\u001b[0;36m\u001b[0m\n\u001b[0;31m    R, D, M, P = makemodel.makemodel(rvals=np.logspace(np.log10(rmin), np.log10(rmax), numr), rho, outfile=modelname, return_values=True)\u001b[0m\n\u001b[0m                                                                                                                                        ^\u001b[0m\n\u001b[0;31mSyntaxError\u001b[0m\u001b[0;31m:\u001b[0m positional argument follows keyword argument\n"
     ]
    }
   ],
   "source": [
    "%pylab inline\n",
    "import numpy as np\n",
    "import EXPtools as et"
   ]
  },
  {
   "cell_type": "code",
   "execution_count": 2,
   "id": "45bde5b1",
   "metadata": {
    "tags": []
   },
   "outputs": [],
   "source": [
    "# Generate triaxial halo distribution "
   ]
  },
  {
   "cell_type": "code",
   "execution_count": 3,
   "id": "84ec4bc3",
   "metadata": {
    "tags": []
   },
   "outputs": [],
   "source": [
    "npart = int(1e5)\n",
    "Hern_halo = et.utils.halo.ICHernquist(npart)"
   ]
  },
  {
   "cell_type": "code",
   "execution_count": null,
   "id": "6087675e",
   "metadata": {},
   "outputs": [],
   "source": [
    "hern_tri = Hern_halo.triaxial([0.5, 0.7, 0.7], rot_angle=30, rot_axis='z')"
   ]
  },
  {
   "cell_type": "code",
   "execution_count": null,
   "id": "4b236348",
   "metadata": {},
   "outputs": [],
   "source": [
    "plt.scatter(hern_tri[:,1], hern_tri[:,2], s=1)\n",
    "plt.xlim(-2, 2)\n",
    "plt.ylim(-2, 2)"
   ]
  },
  {
   "cell_type": "code",
   "execution_count": null,
   "id": "e9043a13",
   "metadata": {},
   "outputs": [],
   "source": [
    "et.basis_builder.basis_utils."
   ]
  },
  {
   "cell_type": "code",
   "execution_count": null,
   "id": "8e023ee8",
   "metadata": {},
   "outputs": [],
   "source": []
  }
 ],
 "metadata": {
  "kernelspec": {
   "display_name": "pyexp",
   "language": "python",
   "name": "pyexp"
  },
  "language_info": {
   "codemirror_mode": {
    "name": "ipython",
    "version": 3
   },
   "file_extension": ".py",
   "mimetype": "text/x-python",
   "name": "python",
   "nbconvert_exporter": "python",
   "pygments_lexer": "ipython3",
   "version": "3.10.12"
  }
 },
 "nbformat": 4,
 "nbformat_minor": 5
}
